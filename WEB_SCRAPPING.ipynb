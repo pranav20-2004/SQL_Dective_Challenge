{
  "nbformat": 4,
  "nbformat_minor": 0,
  "metadata": {
    "colab": {
      "provenance": [],
      "authorship_tag": "ABX9TyNqwTzNclNHbDYiKcpTl1iH",
      "include_colab_link": true
    },
    "kernelspec": {
      "name": "python3",
      "display_name": "Python 3"
    },
    "language_info": {
      "name": "python"
    }
  },
  "cells": [
    {
      "cell_type": "markdown",
      "metadata": {
        "id": "view-in-github",
        "colab_type": "text"
      },
      "source": [
        "<a href=\"https://colab.research.google.com/github/pranav20-2004/SQL_Dective_Challenge/blob/main/WEB_SCRAPPING.ipynb\" target=\"_parent\"><img src=\"https://colab.research.google.com/assets/colab-badge.svg\" alt=\"Open In Colab\"/></a>"
      ]
    },
    {
      "cell_type": "code",
      "execution_count": 1,
      "metadata": {
        "id": "g8h7mciW5g6k"
      },
      "outputs": [],
      "source": [
        "# Import necessary libraries\n",
        "import requests\n",
        "from bs4 import BeautifulSoup\n",
        "import pandas as pd\n",
        "# Initialize an empty list to store book information\n",
        "books = []\n",
        "\n",
        "# Loop through pages 1 to 4\n",
        "for i in range(1,5):\n",
        "  url = f\"https://books.toscrape.com/catalogue/page-{i}.html\"\n",
        "  response = requests.get(url)\n",
        "  response = response.content\n",
        "  soup = BeautifulSoup(response, 'html.parser')\n",
        "  # Find the 'ol' (ordered list) element containing book information\n",
        "  ol = soup.find('ol')\n",
        "  # Find all 'article' elements with the class 'product_pod'\n",
        "  articles = ol.find_all('article', class_='product_pod')\n",
        "   # Loop through each book 'article' element\n",
        "  for article in articles:\n",
        "    # Find the 'img' element to extract the book title from its 'alt' attribute\n",
        "    image = article.find('img')\n",
        "    title = image.attrs['alt']\n",
        "    # Find the 'p' (paragraph) element to extract the star rating from its 'class' attribute\n",
        "    starTag = article.find('p')\n",
        "    star = starTag['class'][1]\n",
        "    # Find the 'p' element with the class 'price_color' to extract the book price\n",
        "    price = article.find('p', class_='price_color').text\n",
        "    # price = float(price[1:])\n",
        "    # Append the book information to the 'books' list\n",
        "    books.append([title, star, price, url])\n",
        "\n",
        "# Create a DataFrame using pandas\n",
        "df = pd.DataFrame(books, columns=['Title', 'Star Rating', 'Price', 'Link'])\n",
        "# Write the DataFrame to a CSV file named 'books.csv'\n",
        "df.to_csv('books.csv')"
      ]
    },
    {
      "cell_type": "code",
      "source": [
        "print(df)"
      ],
      "metadata": {
        "colab": {
          "base_uri": "https://localhost:8080/"
        },
        "id": "SLDRVUA05yXG",
        "outputId": "2015d332-e9f4-4f8a-d9c4-a0188c13f528"
      },
      "execution_count": 2,
      "outputs": [
        {
          "output_type": "stream",
          "name": "stdout",
          "text": [
            "                                                Title Star Rating   Price  \\\n",
            "0                                A Light in the Attic       Three  £51.77   \n",
            "1                                  Tipping the Velvet         One  £53.74   \n",
            "2                                          Soumission         One  £50.10   \n",
            "3                                       Sharp Objects        Four  £47.82   \n",
            "4               Sapiens: A Brief History of Humankind        Five  £54.23   \n",
            "..                                                ...         ...     ...   \n",
            "75                                           Security         Two  £39.25   \n",
            "76      Saga, Volume 6 (Saga (Collected Editions) #6)       Three  £25.02   \n",
            "77      Saga, Volume 5 (Saga (Collected Editions) #5)         Two  £51.04   \n",
            "78  Reskilling America: Learning to Labor in the T...         Two  £19.83   \n",
            "79  Rat Queens, Vol. 3: Demons (Rat Queens (Collec...       Three  £50.40   \n",
            "\n",
            "                                                Link  \n",
            "0   https://books.toscrape.com/catalogue/page-1.html  \n",
            "1   https://books.toscrape.com/catalogue/page-1.html  \n",
            "2   https://books.toscrape.com/catalogue/page-1.html  \n",
            "3   https://books.toscrape.com/catalogue/page-1.html  \n",
            "4   https://books.toscrape.com/catalogue/page-1.html  \n",
            "..                                               ...  \n",
            "75  https://books.toscrape.com/catalogue/page-4.html  \n",
            "76  https://books.toscrape.com/catalogue/page-4.html  \n",
            "77  https://books.toscrape.com/catalogue/page-4.html  \n",
            "78  https://books.toscrape.com/catalogue/page-4.html  \n",
            "79  https://books.toscrape.com/catalogue/page-4.html  \n",
            "\n",
            "[80 rows x 4 columns]\n"
          ]
        }
      ]
    }
  ]
}